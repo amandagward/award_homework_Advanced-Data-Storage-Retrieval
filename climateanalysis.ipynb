{
 "cells": [
  {
   "cell_type": "code",
   "execution_count": null,
   "metadata": {},
   "outputs": [],
   "source": [
    "# Setup\n",
    "import pandas as pd\n",
    "import os\n",
    "import pymysql\n",
    "pymysql.install_as_MySQLdb()\n",
    "import numpy as np\n",
    "import matplotlib.pyplot as plt\n",
    "import matplotlib.dates as mdates\n",
    "import datetime\n",
    "from sqlalchemy import create_engine, inspect, Column, Integer, String\n",
    "from sqlalchemy.ext.automap import automap_base\n",
    "from sqlalchemy.orm import Session\n",
    "from sqlalchemy.ext.declarative import declarative_base\n",
    "Base = declarative_base()\n",
    "from sqlalchemy.sql import func\n",
    "from flask import Flask, jsonify"
   ]
  },
  {
   "cell_type": "code",
   "execution_count": null,
   "metadata": {},
   "outputs": [],
   "source": [
    "# Step 1 - Climate Analysis and Exploration"
   ]
  },
  {
   "cell_type": "code",
   "execution_count": null,
   "metadata": {},
   "outputs": [],
   "source": [
    "# To begin, use Python and SQLAlchemy to do basic climate analysis and data exploration of your climate database.\n",
    "# All of the following analysis should be completed using SQLAlchemy ORM queries, Pandas, and Matplotlib.\n",
    "# Use the provided [starter notebook](climate_starter.ipynb) and [hawaii.sqlite](Resources/hawaii.sqlite)\n",
    "# files to complete your climate analysis and data exploration."
   ]
  },
  {
   "cell_type": "code",
   "execution_count": null,
   "metadata": {},
   "outputs": [],
   "source": [
    "# Choose a start date and end date for your trip.\n",
    "# Make sure that your vacation range is approximately 3-15 days total."
   ]
  },
  {
   "cell_type": "code",
   "execution_count": null,
   "metadata": {},
   "outputs": [],
   "source": [
    "# Use SQLAlchemy `create_engine` to connect to your sqlite database.\n",
    "\n",
    "# Connect to database\n",
    "engine = create_engine('sqlite:///hawaii.sqlite')\n",
    "\n",
    "# Create tables in database\n",
    "Base.metadata.create_all(engine)\n",
    "\n",
    "# Start session\n",
    "session = Session(bind=engine)"
   ]
  },
  {
   "cell_type": "code",
   "execution_count": null,
   "metadata": {},
   "outputs": [],
   "source": [
    "# Use SQLAlchemy `automap_base()` to reflect your tables into classes and\n",
    "# save a reference to those classes called `Station` and `Measurement`.\n",
    "\n",
    "# Declare Base using 'automap_base()'\n",
    "Base = automap_base()\n",
    "\n",
    "# Use Base class to reflect database tables\n",
    "Base.prepare(engine, reflect=True)\n",
    "\n",
    "# Use Base class to reflect database tables\n",
    "Base.prepare(engine, reflect=True)"
   ]
  },
  {
   "cell_type": "code",
   "execution_count": null,
   "metadata": {},
   "outputs": [],
   "source": [
    "### Precipitation Analysis\n",
    "\n",
    "# Design a query to retrieve the last 12 months of precipitation data.\n",
    "# Select only the `date` and `prcp` values.\n",
    "\n",
    "latestDate = (session.query(Measurement.date)\n",
    "                     .order_by(Measurement.date.desc())\n",
    "                     .first())\n",
    "latestDate = list(np.ravel(latestDate))[0]\n",
    "latestDate = dt.datetime.strptime(latestDate, '%Y-%m-%d')\n",
    "\n",
    "latestYear = int(dt.datetime.strftime(latestDate, '%Y'))\n",
    "latestMonth = int(dt.datetime.strftime(latestDate, '%m'))\n",
    "latestDay = int(dt.datetime.strftime(latestDate, '%d'))\n",
    "\n",
    "yearBefore = dt.date(latestYear, latestMonth, latestDay) - dt.timedelta(days=365)\n",
    "\n",
    "rainData = (session.query(Measurement.date, Measurement.prcp)\n",
    "                  .filter(Measurement.date > yearBefore)\n",
    "                  .order_by(Measurement.date)\n",
    "                  .all())\n",
    "\n",
    "rainTable = pd.DataFrame(rainData)\n",
    "rainTable = rainTable.set_index('date')rainTable = rainTable.sort_index(ascending=True)"
   ]
  },
  {
   "cell_type": "code",
   "execution_count": null,
   "metadata": {},
   "outputs": [],
   "source": [
    "# Load the query results into a Pandas DataFrame and set the index to the date column.\n",
    "# Sort the DataFrame values by `date`.\n",
    "\n",
    "tobs_df = pd.DataFrame(tobs_query, columns=['date','station','tobs'])\n",
    "\n",
    "#tobs_df.set_index('date', inplace=True)\n",
    "#tobs_df.head()\n",
    "\n",
    "tobs_only = tobs_df['tobs']"
   ]
  },
  {
   "cell_type": "code",
   "execution_count": null,
   "metadata": {},
   "outputs": [],
   "source": [
    "# Plot the results using the DataFrame `plot` method.\n",
    "\n",
    "  ![precipitation](Images/precipitation.png)"
   ]
  },
  {
   "cell_type": "code",
   "execution_count": null,
   "metadata": {},
   "outputs": [],
   "source": [
    "### Station Analysis\n",
    "\n",
    "HI_stations = Base.classes.stations\n",
    "\n",
    "list(HI_stations.__table__.columns)"
   ]
  },
  {
   "cell_type": "code",
   "execution_count": null,
   "metadata": {},
   "outputs": [],
   "source": [
    "# Design a query to calculate the total number of stations.\n",
    "\n",
    "stations_count = (session\n",
    "                  .query(HI_stations.station)\n",
    "                  .count())\n",
    "stations_count"
   ]
  },
  {
   "cell_type": "code",
   "execution_count": null,
   "metadata": {},
   "outputs": [],
   "source": [
    "# Design a query to find the most active stations.\n",
    "# List the stations and observation counts in descending order.\n",
    "# Which station has the highest number of observations?\n",
    "active_stations = (session\n",
    "                   .query(HI_measurements.station, func.count(HI_measurements.date))\n",
    "                   .order_by(func.count(HI_measurements.date).desc())\n",
    "                   .group_by(HI_measurements.station)\n",
    "                   .all())\n",
    "active_stations"
   ]
  },
  {
   "cell_type": "code",
   "execution_count": null,
   "metadata": {},
   "outputs": [],
   "source": [
    "# Design a query to retrieve the last 12 months of temperature observation data (tobs).\n",
    "# Filter by the station with the highest number of observations.\n",
    "tobs_query = (session\n",
    "              .query(HI_measurements.date, \n",
    "                     HI_measurements.station,\n",
    "                     HI_measurements.tobs)\n",
    "              .filter(HI_measurements.date <= '2017-08-23')\n",
    "              .filter(HI_measurements.date >= '2016-08-23')\n",
    "              .order_by(HI_measurements.date)\n",
    "              .all())\n",
    "\n",
    "for row in tobs_query:\n",
    "    print(row)"
   ]
  },
  {
   "cell_type": "code",
   "execution_count": null,
   "metadata": {},
   "outputs": [],
   "source": [
    "# Plot the results as a histogram with `bins=12`.\n",
    "plt.hist(tobs_only, bins=12)\n",
    "plt.xlabel('tobs')\n",
    "plt.ylabel('Frequency')\n",
    "plt.title('tobs frequency of most active train USC00519281 from 8/23/2016 - 8/23/2017')\n",
    "plt.grid()\n",
    "plt.show()\n",
    "\n",
    "![station-histogram](Images/station-histogram.png)"
   ]
  },
  {
   "cell_type": "code",
   "execution_count": null,
   "metadata": {},
   "outputs": [],
   "source": [
    "# Step 2 - Climate App"
   ]
  },
  {
   "cell_type": "code",
   "execution_count": null,
   "metadata": {},
   "outputs": [],
   "source": [
    "# Now that you have completed your initial analysis,\n",
    "# design a Flask API based on the queries that you have just developed.\n",
    "\n",
    "### Routes\n",
    "    # `/`\n",
    "    # Home page.\n",
    "    # List all routes that are available."
   ]
  },
  {
   "cell_type": "code",
   "execution_count": null,
   "metadata": {},
   "outputs": [],
   "source": [
    "# `/api/v1.0/precipitation`\n",
    "# Convert the query results to a Dictionary using `date` as the key and `prcp` as the value.\n",
    "# Return the JSON representation of your dictionary.\n",
    "\n",
    "app = Flask(__name__)\n",
    "\n",
    "@app.route('/api/v1.0/precipitation') \n",
    "def precipitation():\n",
    "    print(\"Server received request for 'Precipitation' page...\")\n",
    "    return \"Here are the dates and temperature observations from last year!\"\n",
    "\n",
    "    last_year_temp = (session\n",
    "                      .query(HI_measurements.tobs)\n",
    "                      .filter(HI_measurements.date <= '2017-08-23')\n",
    "                      .filter(HI_measurements.date >= '2016-08-23')\n",
    "                      .order_by(HI_measurements.date)\n",
    "                      .all())\n",
    "\n",
    "    # Convert the query results to a Dictionary using date as the key and tobs as the value\n",
    "    dates_and_temp = []\n",
    "    for date in last_year_temp:\n",
    "        date_dict ={}\n",
    "        date_dict['date'] = HI_measurements.date\n",
    "        date_dict['temperature'] = HI_measurements.tobs\n",
    "        dates_and_temp.append(date_dict)\n",
    "    \n",
    "# Return the json representation of your dictionary\n",
    "    return jsonify(dates_and_temp)"
   ]
  },
  {
   "cell_type": "code",
   "execution_count": null,
   "metadata": {},
   "outputs": [],
   "source": [
    "# `/api/v1.0/stations`\n",
    "# Return a JSON list of stations from the dataset.\n",
    "\n",
    "@app.route('/api/v1.0/stations') \n",
    "def stations():\n",
    "    print(\"Server received request for 'Stations' page...\")\n",
    "    return \"Here is the list of stations from the dataset!\"\n",
    "\n",
    "    stations_query = (session\n",
    "                      .query(HI_stations.stations)\n",
    "                      .all())\n",
    "    \n",
    "    return jsonify(stations_query)"
   ]
  },
  {
   "cell_type": "code",
   "execution_count": null,
   "metadata": {},
   "outputs": [],
   "source": [
    "# `/api/v1.0/tobs`\n",
    "# query for the dates and temperature observations from a year from the last data point.\n",
    "# Return a JSON list of Temperature Observations (tobs) for the previous year.\n",
    "\n",
    "@app.route('/api/v1.0/tobs') \n",
    "def tobs():\n",
    "    print(\"Server received request for 'Temperature Observations' page...\")\n",
    "    return \"Here is the list of Temperature Observations (tobs) for the previous year!\"\n",
    "    \n",
    "    tobs_last_year = (session\n",
    "                      .query(HI_measurements.tobs)\n",
    "                      .filter(HI_measurements.date <= '2017-08-23')\n",
    "                      .filter(HI_measurements.date >= '2016-08-23')\n",
    "                      .order_by(HI_measurements.tobs)\n",
    "                      .all())\n",
    "    \n",
    "    return jsonify(tobs_last_year)"
   ]
  },
  {
   "cell_type": "code",
   "execution_count": null,
   "metadata": {},
   "outputs": [],
   "source": [
    "# `/api/v1.0/<start>` and `/api/v1.0/<start>/<end>`\n",
    "# Return a JSON list of the minimum temperature, the average temperature, and the max temperature for \n",
    "# a given start or start-end range.\n",
    "# When given the start only, calculate `TMIN`, `TAVG`, and `TMAX` for all dates greater than and equal\n",
    "# to the start date.\n",
    "# When given the start and the end date, calculate the `TMIN`, `TAVG`, and `TMAX` for dates between\n",
    "# the start and end date inclusive.\n",
    "\n",
    "@app.route('/api/v1.0/<start>)') \n",
    "def tobs_start():\n",
    "    print(\"Server received request for 'Min Temp, Avg Temp, Max Temp of a given start' page...\")\n",
    "    return \"Here is the list of Temperature information for the a given date!\"\n",
    "    \n",
    "    start = HI_measurements.date <= '2010-01-01'\n",
    "    end = HI_measurements.date >= '2017-08-23'\n",
    "\n",
    "    # When given the start only, calculate TMIN, TAVG, and TMAX for all dates greater \n",
    "    # than and equal to the start date\n",
    "    tobs_start_only = (session\n",
    "                       .query(HI_measurements.tobs)\n",
    "                       .filter(HI_measurements.date.between(start, '2017-08-23'))\n",
    "                       .all())\n",
    "    \n",
    "    tso_df = pd.DataFrame(tobs_start_only)\n",
    "    \n",
    "    tmin = tso_df.min()\n",
    "    tmax = tso_df.max()\n",
    "    tavg = tso_df.avg()\n",
    "    \n",
    "    return jsonify(tmin, tmax, tavg)\n",
    "\n",
    "@app.route('/api/v1.0/<start>/<end>') \n",
    "def tobs_given_range():\n",
    "    \n",
    "    print(\"Server received request for 'Min Temp, Avg Temp, Max Temp of a given start or date range' page...\")\n",
    "    return \"Here is the list of Temperature information for the a given date range!\"\n",
    "    \n",
    "    # When given the start and the end date, calculate the TMIN, TAVG, and TMAX for dates between the start \n",
    "    # and end date inclusive.\n",
    "    tobs_given_range = (session\n",
    "                        .query(HI_measurements.tobs)\n",
    "                        .filter(HI_measurements.date.between(start, end))\n",
    "                        .all())\n",
    "    \n",
    "    # Convert to Dataframe to calculate TMIN, TAVG, TMAX\n",
    "    tgr_df = pd.DataFrame(tobs_given_range)\n",
    "    \n",
    "    t2min = tgr_df.min()\n",
    "    t2max = tgr_df.max()\n",
    "    t2avg = tgr_df.avg()\n",
    "    \n",
    "    return jsonify(t2min, t2max, t2avg)"
   ]
  }
 ],
 "metadata": {
  "kernelspec": {
   "display_name": "Python 3",
   "language": "python",
   "name": "python3"
  },
  "language_info": {
   "codemirror_mode": {
    "name": "ipython",
    "version": 3
   },
   "file_extension": ".py",
   "mimetype": "text/x-python",
   "name": "python",
   "nbconvert_exporter": "python",
   "pygments_lexer": "ipython3",
   "version": "3.7.3"
  }
 },
 "nbformat": 4,
 "nbformat_minor": 2
}
